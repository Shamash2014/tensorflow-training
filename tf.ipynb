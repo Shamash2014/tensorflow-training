{
 "cells": [
  {
   "cell_type": "code",
   "execution_count": 1,
   "metadata": {
    "collapsed": true
   },
   "outputs": [],
   "source": [
    "import tensorflow as tf"
   ]
  },
  {
   "cell_type": "code",
   "execution_count": 2,
   "metadata": {
    "collapsed": true
   },
   "outputs": [],
   "source": [
    "import numpy as np"
   ]
  },
  {
   "cell_type": "code",
   "execution_count": 3,
   "metadata": {},
   "outputs": [
    {
     "name": "stdout",
     "output_type": "stream",
     "text": [
      "1.3.0\n"
     ]
    }
   ],
   "source": [
    "print(tf.__version__)"
   ]
  },
  {
   "cell_type": "code",
   "execution_count": 4,
   "metadata": {
    "collapsed": true
   },
   "outputs": [],
   "source": [
    "from tensorflow.contrib.learn.python.learn.datasets import base\n",
    "import os\n",
    "import urllib\n"
   ]
  },
  {
   "cell_type": "code",
   "execution_count": 6,
   "metadata": {},
   "outputs": [
    {
     "name": "stdout",
     "output_type": "stream",
     "text": [
      "[[ 5.9000001   3.          4.19999981  1.5       ]\n",
      " [ 6.9000001   3.0999999   5.4000001   2.0999999 ]\n",
      " [ 5.0999999   3.29999995  1.70000005  0.5       ]\n",
      " [ 6.          3.4000001   4.5         1.60000002]\n",
      " [ 5.5         2.5         4.          1.29999995]\n",
      " [ 6.19999981  2.9000001   4.30000019  1.29999995]\n",
      " [ 5.5         4.19999981  1.39999998  0.2       ]\n",
      " [ 6.30000019  2.79999995  5.0999999   1.5       ]\n",
      " [ 5.5999999   3.          4.0999999   1.29999995]\n",
      " [ 6.69999981  2.5         5.80000019  1.79999995]\n",
      " [ 7.0999999   3.          5.9000001   2.0999999 ]\n",
      " [ 4.30000019  3.          1.10000002  0.1       ]\n",
      " [ 5.5999999   2.79999995  4.9000001   2.        ]\n",
      " [ 5.5         2.29999995  4.          1.29999995]\n",
      " [ 6.          2.20000005  4.          1.        ]\n",
      " [ 5.0999999   3.5         1.39999998  0.2       ]\n",
      " [ 5.69999981  2.5999999   3.5         1.        ]\n",
      " [ 4.80000019  3.4000001   1.89999998  0.2       ]\n",
      " [ 5.0999999   3.4000001   1.5         0.2       ]\n",
      " [ 5.69999981  2.5         5.          2.        ]\n",
      " [ 5.4000001   3.4000001   1.70000005  0.2       ]\n",
      " [ 5.5999999   3.          4.5         1.5       ]\n",
      " [ 6.30000019  2.9000001   5.5999999   1.79999995]\n",
      " [ 6.30000019  2.5         4.9000001   1.5       ]\n",
      " [ 5.80000019  2.70000005  3.9000001   1.20000005]\n",
      " [ 6.0999999   3.          4.5999999   1.39999998]\n",
      " [ 5.19999981  4.0999999   1.5         0.1       ]\n",
      " [ 6.69999981  3.0999999   4.69999981  1.5       ]\n",
      " [ 6.69999981  3.29999995  5.69999981  2.5       ]\n",
      " [ 6.4000001   2.9000001   4.30000019  1.29999995]]\n"
     ]
    }
   ],
   "source": [
    "IRIS_TRAINING = \"iris_training.csv\"\n",
    "IRIS_TRAINING_URL = \"http://download.tensorflow.org/data/iris_training.csv\"\n",
    "\n",
    "IRIS_TEST = \"iris_test.csv\"\n",
    "IRIS_TEST_URL = \"http://download.tensorflow.org/data/iris_test.csv\"\n",
    "\n",
    "if not os.path.exists(IRIS_TRAINING):\n",
    "    local_filename, headers = urllib.request.urlretrieve(IRIS_TRAINING_URL)\n",
    "    with open(IRIS_TRAINING, \"w\") as f:\n",
    "        f.write(open(local_filename).read())\n",
    "\n",
    "if not os.path.exists(IRIS_TEST):\n",
    "    test_filename, headers = urllib.request.urlretrieve(IRIS_TEST_URL)\n",
    "    with open(IRIS_TRAINING, \"w\") as f:\n",
    "        f.write(open(test_filename).read())\n",
    "\n",
    "training_set = base.load_csv_with_header(filename=IRIS_TRAINING, \n",
    "                                          features_dtype=np.float32,\n",
    "                                          target_dtype=np.int)\n",
    "\n",
    "test_set = base.load_csv_with_header(filename=IRIS_TEST,\n",
    "                                     features_dtype=np.float32,\n",
    "                                     target_dtype=np.int\n",
    "                                    )\n",
    "\n",
    "print(training_set.data)"
   ]
  },
  {
   "cell_type": "code",
   "execution_count": 7,
   "metadata": {
    "collapsed": true
   },
   "outputs": [],
   "source": [
    "# Specify features\n",
    "\n",
    "feature_name = \"flower_features\"\n",
    "feature_columns = [tf.feature_column.numeric_column(feature_name, shape=[4])]"
   ]
  },
  {
   "cell_type": "code",
   "execution_count": 8,
   "metadata": {},
   "outputs": [
    {
     "name": "stdout",
     "output_type": "stream",
     "text": [
      "INFO:tensorflow:Using default config.\n",
      "INFO:tensorflow:Using config: {'_model_dir': '/tmp/iris_model', '_tf_random_seed': 1, '_save_summary_steps': 100, '_save_checkpoints_secs': 600, '_save_checkpoints_steps': None, '_session_config': None, '_keep_checkpoint_max': 5, '_keep_checkpoint_every_n_hours': 10000, '_log_step_count_steps': 100}\n"
     ]
    }
   ],
   "source": [
    "classifier = tf.estimator.LinearClassifier(feature_columns=feature_columns,\n",
    "                                           n_classes=3,\n",
    "                                           model_dir=\"/tmp/iris_model\"\n",
    "                                          )"
   ]
  },
  {
   "cell_type": "code",
   "execution_count": 15,
   "metadata": {},
   "outputs": [
    {
     "name": "stdout",
     "output_type": "stream",
     "text": [
      "({'flower_features': <tf.Tensor 'Const_3:0' shape=(30, 4) dtype=float32>}, <tf.Tensor 'Const_4:0' shape=(30,) dtype=int64>)\n"
     ]
    }
   ],
   "source": [
    "def input_fn(dataset):\n",
    "    def _fn():\n",
    "        features = {feature_name: tf.constant(dataset.data)}\n",
    "        label = tf.constant(dataset.target)\n",
    "        return features, label\n",
    "    return _fn\n",
    "    \n",
    "print(input_fn(training_set)())"
   ]
  },
  {
   "cell_type": "code",
   "execution_count": 16,
   "metadata": {},
   "outputs": [
    {
     "name": "stdout",
     "output_type": "stream",
     "text": [
      "INFO:tensorflow:Create CheckpointSaverHook.\n",
      "INFO:tensorflow:Saving checkpoints for 1 into /tmp/iris_model/model.ckpt.\n",
      "INFO:tensorflow:loss = 32.9584, step = 1\n",
      "INFO:tensorflow:global_step/sec: 1996.65\n",
      "INFO:tensorflow:loss = 9.59655, step = 101 (0.051 sec)\n",
      "INFO:tensorflow:global_step/sec: 2440.71\n",
      "INFO:tensorflow:loss = 7.00002, step = 201 (0.041 sec)\n",
      "INFO:tensorflow:global_step/sec: 2482.59\n",
      "INFO:tensorflow:loss = 5.7014, step = 301 (0.040 sec)\n",
      "INFO:tensorflow:global_step/sec: 2539.17\n",
      "INFO:tensorflow:loss = 4.92116, step = 401 (0.039 sec)\n",
      "INFO:tensorflow:global_step/sec: 2364.03\n",
      "INFO:tensorflow:loss = 4.39968, step = 501 (0.042 sec)\n",
      "INFO:tensorflow:global_step/sec: 2256.25\n",
      "INFO:tensorflow:loss = 4.02568, step = 601 (0.044 sec)\n",
      "INFO:tensorflow:global_step/sec: 2342.14\n",
      "INFO:tensorflow:loss = 3.74363, step = 701 (0.043 sec)\n",
      "INFO:tensorflow:global_step/sec: 2474.68\n",
      "INFO:tensorflow:loss = 3.52277, step = 801 (0.041 sec)\n",
      "INFO:tensorflow:global_step/sec: 2483.78\n",
      "INFO:tensorflow:loss = 3.34468, step = 901 (0.040 sec)\n",
      "INFO:tensorflow:Saving checkpoints for 1000 into /tmp/iris_model/model.ckpt.\n",
      "INFO:tensorflow:Loss for final step: 3.19902.\n",
      "FItted\n"
     ]
    }
   ],
   "source": [
    "classifier.train(input_fn=input_fn(training_set), steps=1000)\n",
    "\n",
    "print('FItted')"
   ]
  },
  {
   "cell_type": "code",
   "execution_count": 17,
   "metadata": {},
   "outputs": [
    {
     "name": "stdout",
     "output_type": "stream",
     "text": [
      "INFO:tensorflow:Starting evaluation at 2017-09-09-19:58:33\n",
      "INFO:tensorflow:Restoring parameters from /tmp/iris_model/model.ckpt-1000\n",
      "INFO:tensorflow:Evaluation [1/100]\n",
      "INFO:tensorflow:Evaluation [2/100]\n",
      "INFO:tensorflow:Evaluation [3/100]\n",
      "INFO:tensorflow:Evaluation [4/100]\n",
      "INFO:tensorflow:Evaluation [5/100]\n",
      "INFO:tensorflow:Evaluation [6/100]\n",
      "INFO:tensorflow:Evaluation [7/100]\n",
      "INFO:tensorflow:Evaluation [8/100]\n",
      "INFO:tensorflow:Evaluation [9/100]\n",
      "INFO:tensorflow:Evaluation [10/100]\n",
      "INFO:tensorflow:Evaluation [11/100]\n",
      "INFO:tensorflow:Evaluation [12/100]\n",
      "INFO:tensorflow:Evaluation [13/100]\n",
      "INFO:tensorflow:Evaluation [14/100]\n",
      "INFO:tensorflow:Evaluation [15/100]\n",
      "INFO:tensorflow:Evaluation [16/100]\n",
      "INFO:tensorflow:Evaluation [17/100]\n",
      "INFO:tensorflow:Evaluation [18/100]\n",
      "INFO:tensorflow:Evaluation [19/100]\n",
      "INFO:tensorflow:Evaluation [20/100]\n",
      "INFO:tensorflow:Evaluation [21/100]\n",
      "INFO:tensorflow:Evaluation [22/100]\n",
      "INFO:tensorflow:Evaluation [23/100]\n",
      "INFO:tensorflow:Evaluation [24/100]\n",
      "INFO:tensorflow:Evaluation [25/100]\n",
      "INFO:tensorflow:Evaluation [26/100]\n",
      "INFO:tensorflow:Evaluation [27/100]\n",
      "INFO:tensorflow:Evaluation [28/100]\n",
      "INFO:tensorflow:Evaluation [29/100]\n",
      "INFO:tensorflow:Evaluation [30/100]\n",
      "INFO:tensorflow:Evaluation [31/100]\n",
      "INFO:tensorflow:Evaluation [32/100]\n",
      "INFO:tensorflow:Evaluation [33/100]\n",
      "INFO:tensorflow:Evaluation [34/100]\n",
      "INFO:tensorflow:Evaluation [35/100]\n",
      "INFO:tensorflow:Evaluation [36/100]\n",
      "INFO:tensorflow:Evaluation [37/100]\n",
      "INFO:tensorflow:Evaluation [38/100]\n",
      "INFO:tensorflow:Evaluation [39/100]\n",
      "INFO:tensorflow:Evaluation [40/100]\n",
      "INFO:tensorflow:Evaluation [41/100]\n",
      "INFO:tensorflow:Evaluation [42/100]\n",
      "INFO:tensorflow:Evaluation [43/100]\n",
      "INFO:tensorflow:Evaluation [44/100]\n",
      "INFO:tensorflow:Evaluation [45/100]\n",
      "INFO:tensorflow:Evaluation [46/100]\n",
      "INFO:tensorflow:Evaluation [47/100]\n",
      "INFO:tensorflow:Evaluation [48/100]\n",
      "INFO:tensorflow:Evaluation [49/100]\n",
      "INFO:tensorflow:Evaluation [50/100]\n",
      "INFO:tensorflow:Evaluation [51/100]\n",
      "INFO:tensorflow:Evaluation [52/100]\n",
      "INFO:tensorflow:Evaluation [53/100]\n",
      "INFO:tensorflow:Evaluation [54/100]\n",
      "INFO:tensorflow:Evaluation [55/100]\n",
      "INFO:tensorflow:Evaluation [56/100]\n",
      "INFO:tensorflow:Evaluation [57/100]\n",
      "INFO:tensorflow:Evaluation [58/100]\n",
      "INFO:tensorflow:Evaluation [59/100]\n",
      "INFO:tensorflow:Evaluation [60/100]\n",
      "INFO:tensorflow:Evaluation [61/100]\n",
      "INFO:tensorflow:Evaluation [62/100]\n",
      "INFO:tensorflow:Evaluation [63/100]\n",
      "INFO:tensorflow:Evaluation [64/100]\n",
      "INFO:tensorflow:Evaluation [65/100]\n",
      "INFO:tensorflow:Evaluation [66/100]\n",
      "INFO:tensorflow:Evaluation [67/100]\n",
      "INFO:tensorflow:Evaluation [68/100]\n",
      "INFO:tensorflow:Evaluation [69/100]\n",
      "INFO:tensorflow:Evaluation [70/100]\n",
      "INFO:tensorflow:Evaluation [71/100]\n",
      "INFO:tensorflow:Evaluation [72/100]\n",
      "INFO:tensorflow:Evaluation [73/100]\n",
      "INFO:tensorflow:Evaluation [74/100]\n",
      "INFO:tensorflow:Evaluation [75/100]\n",
      "INFO:tensorflow:Evaluation [76/100]\n",
      "INFO:tensorflow:Evaluation [77/100]\n",
      "INFO:tensorflow:Evaluation [78/100]\n",
      "INFO:tensorflow:Evaluation [79/100]\n",
      "INFO:tensorflow:Evaluation [80/100]\n",
      "INFO:tensorflow:Evaluation [81/100]\n",
      "INFO:tensorflow:Evaluation [82/100]\n",
      "INFO:tensorflow:Evaluation [83/100]\n",
      "INFO:tensorflow:Evaluation [84/100]\n",
      "INFO:tensorflow:Evaluation [85/100]\n",
      "INFO:tensorflow:Evaluation [86/100]\n",
      "INFO:tensorflow:Evaluation [87/100]\n",
      "INFO:tensorflow:Evaluation [88/100]\n",
      "INFO:tensorflow:Evaluation [89/100]\n",
      "INFO:tensorflow:Evaluation [90/100]\n",
      "INFO:tensorflow:Evaluation [91/100]\n",
      "INFO:tensorflow:Evaluation [92/100]\n",
      "INFO:tensorflow:Evaluation [93/100]\n",
      "INFO:tensorflow:Evaluation [94/100]\n",
      "INFO:tensorflow:Evaluation [95/100]\n",
      "INFO:tensorflow:Evaluation [96/100]\n",
      "INFO:tensorflow:Evaluation [97/100]\n",
      "INFO:tensorflow:Evaluation [98/100]\n",
      "INFO:tensorflow:Evaluation [99/100]\n",
      "INFO:tensorflow:Evaluation [100/100]\n",
      "INFO:tensorflow:Finished evaluation at 2017-09-09-19:58:34\n",
      "INFO:tensorflow:Saving dict for global step 1000: accuracy = 0.966667, average_loss = 0.106589, global_step = 1000, loss = 3.19767\n",
      "Accuracy is 0.9666666388511658\n"
     ]
    }
   ],
   "source": [
    "accuracy = classifier.evaluate(input_fn=input_fn(test_set), steps=100)[\"accuracy\"]\n",
    "\n",
    "print(\"Accuracy is {0}\".format(accuracy))"
   ]
  },
  {
   "cell_type": "code",
   "execution_count": null,
   "metadata": {
    "collapsed": true
   },
   "outputs": [],
   "source": []
  }
 ],
 "metadata": {
  "kernelspec": {
   "display_name": "Python 3",
   "language": "python",
   "name": "python3"
  },
  "language_info": {
   "codemirror_mode": {
    "name": "ipython",
    "version": 3
   },
   "file_extension": ".py",
   "mimetype": "text/x-python",
   "name": "python",
   "nbconvert_exporter": "python",
   "pygments_lexer": "ipython3",
   "version": "3.6.2"
  }
 },
 "nbformat": 4,
 "nbformat_minor": 2
}
